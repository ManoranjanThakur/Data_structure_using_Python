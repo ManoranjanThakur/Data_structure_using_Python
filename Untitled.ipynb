{
 "cells": [
  {
   "cell_type": "code",
   "execution_count": 1,
   "metadata": {},
   "outputs": [],
   "source": [
    "class MinHeap:\n",
    "    def __init__(self,capacity):\n",
    "        self.storage=[0]*capacity\n",
    "        self.capacity=capacity\n",
    "        self.size=0\n",
    "    def getParentIndex(self,index):\n",
    "        return (index-1)//2\n",
    "    def getLeftChildIndex(self,index):\n",
    "        return (2*index +1)\n",
    "    def getRightChildIndex(self,index):\n",
    "        return (2*index + 2)\n",
    "    def hasParent(self,index):\n",
    "        return self.getParentIndex(index)>0\n",
    "    def hasLeftChild(self,index):\n",
    "        return self.getLeftChildIndex(index)<self.size\n",
    "    def hasRightChild(self,index):\n",
    "        return self.getRightChildIndex(index)<self.size\n",
    "    def parent(self,index):\n",
    "        return self.storage[self.getParentIndex(index)]\n",
    "    def leftChild(self,index):\n",
    "        return self.storage[self.getLeftChildIndex(index)]\n",
    "    def RightChild(self,index):\n",
    "        return self.storage[self.getRightChildIndex(index)]\n",
    "    def isFull(self):\n",
    "        return self.size==self.capacity\n",
    "    def swap(self,index1,index2):\n",
    "        temp=self.storage[index1]\n",
    "        self.storage[index1]=self.storage[index2]\n",
    "        self.storage[index2]=temp\n",
    "    def insert(self,data):\n",
    "        if (self.isFull()):\n",
    "            raise (\"Heap already full\")\n",
    "        self.storage[self.size]=data\n",
    "        self.size+=1\n",
    "        self.heapifyUp()\n",
    "    def heapifyUp(self):\n",
    "        index=self.size-1\n",
    "        while(self.hasParent(index) and self.parent(index)>self.storage[index]):\n",
    "            self.swap(self.getParentIndex(index),index)\n",
    "            index=self.getParentIndex(index)\n",
    "    def removeMin(self):\n",
    "        if (self.size==0):\n",
    "            raise (\"Empty Heap\")\n",
    "        data=self.storage[0]\n",
    "        self.strage[0]=self.storage[self.size-1]\n",
    "        self.size-=1\n",
    "        self.heapifyDown()\n",
    "        return data\n",
    "    def heapifyDown(self):\n",
    "        index=0\n",
    "        while(self.hasLeftChild(index)):\n",
    "            smallerChildIndex=self.getLeftChildIndex(index)\n",
    "            if (self.hasRightChild(index) and self.leftChild(index)>self.rightChild(index)):\n",
    "                smallerChildIndex=self.rightChildIndex(index)\n",
    "            if (self.storage[index]<self.storage[smallerChildIndex]):\n",
    "                break\n",
    "            else:\n",
    "                self.swap(index,smallerChildIndex)\n",
    "            index=smallerChildIndex"
   ]
  },
  {
   "cell_type": "code",
   "execution_count": 4,
   "metadata": {},
   "outputs": [],
   "source": [
    "A=MinHeap(10)"
   ]
  },
  {
   "cell_type": "code",
   "execution_count": 5,
   "metadata": {},
   "outputs": [],
   "source": [
    "A.insert(10)\n",
    "A.insert(9)\n",
    "A.insert(7)\n",
    "A.insert(5)\n",
    "A.insert(3)\n",
    "A.insert(4)"
   ]
  },
  {
   "cell_type": "code",
   "execution_count": 7,
   "metadata": {},
   "outputs": [
    {
     "data": {
      "text/plain": [
       "5"
      ]
     },
     "execution_count": 7,
     "metadata": {},
     "output_type": "execute_result"
    }
   ],
   "source": [
    "A.parent(10)"
   ]
  },
  {
   "cell_type": "code",
   "execution_count": 2,
   "metadata": {},
   "outputs": [
    {
     "data": {
      "text/plain": [
       "2"
      ]
     },
     "execution_count": 2,
     "metadata": {},
     "output_type": "execute_result"
    }
   ],
   "source": [
    "2+1//2\n"
   ]
  },
  {
   "cell_type": "code",
   "execution_count": 15,
   "metadata": {},
   "outputs": [],
   "source": [
    "def searchMatrix(matrix, target) :\n",
    "    if not matrix or not matrix[0]:\n",
    "        return False\n",
    "    row = 0\n",
    "    for r in range(len(matrix)):\n",
    "        if target== matrix[r][0] or target == matrix[r][-1]:\n",
    "            return True\n",
    "        elif target>matrix[r][0] and target<matrix[r][-1]:\n",
    "            row = r\n",
    "            break\n",
    "    l=0\n",
    "    r=len(matrix[row])-1\n",
    "    while l<=r:\n",
    "        mid = (l+r)//2\n",
    "        if target == matrix[row][mid]:\n",
    "            return True\n",
    "        elif target>matrix[row][mid]:\n",
    "            l=mid+1\n",
    "        else:\n",
    "            r = mid-1\n",
    "    return False"
   ]
  },
  {
   "cell_type": "code",
   "execution_count": 16,
   "metadata": {},
   "outputs": [
    {
     "data": {
      "text/plain": [
       "True"
      ]
     },
     "execution_count": 16,
     "metadata": {},
     "output_type": "execute_result"
    }
   ],
   "source": [
    "searchMatrix([[-8,-7,-5,-3,-3,-1, 1],\n",
    "              [2, 2,2,3, 3 , 5 ,  7],\n",
    "              [8 ,9,11,11,13,15, 17],\n",
    "              [18,18,18,20,20,20,21],\n",
    "              [23,24,26,26,26,27,27],\n",
    "              [28,29,29,30,32,32,34]],-5)"
   ]
  },
  {
   "cell_type": "code",
   "execution_count": 17,
   "metadata": {},
   "outputs": [
    {
     "ename": "NameError",
     "evalue": "name 'List' is not defined",
     "output_type": "error",
     "traceback": [
      "\u001b[1;31m---------------------------------------------------------------------------\u001b[0m",
      "\u001b[1;31mNameError\u001b[0m                                 Traceback (most recent call last)",
      "\u001b[1;32m<ipython-input-17-69e8a0368822>\u001b[0m in \u001b[0;36m<module>\u001b[1;34m\u001b[0m\n\u001b[1;32m----> 1\u001b[1;33m \u001b[1;32mclass\u001b[0m \u001b[0mSolution\u001b[0m\u001b[1;33m:\u001b[0m\u001b[1;33m\u001b[0m\u001b[1;33m\u001b[0m\u001b[0m\n\u001b[0m\u001b[0;32m      2\u001b[0m     \u001b[1;32mdef\u001b[0m \u001b[0msearchMatrix\u001b[0m\u001b[1;33m(\u001b[0m\u001b[0mself\u001b[0m\u001b[1;33m,\u001b[0m \u001b[0mmatrix\u001b[0m\u001b[1;33m:\u001b[0m \u001b[0mList\u001b[0m\u001b[1;33m[\u001b[0m\u001b[0mList\u001b[0m\u001b[1;33m[\u001b[0m\u001b[0mint\u001b[0m\u001b[1;33m]\u001b[0m\u001b[1;33m]\u001b[0m\u001b[1;33m,\u001b[0m \u001b[0mtarget\u001b[0m\u001b[1;33m:\u001b[0m \u001b[0mint\u001b[0m\u001b[1;33m)\u001b[0m \u001b[1;33m->\u001b[0m \u001b[0mbool\u001b[0m\u001b[1;33m:\u001b[0m\u001b[1;33m\u001b[0m\u001b[1;33m\u001b[0m\u001b[0m\n\u001b[0;32m      3\u001b[0m          \u001b[1;31m#if matrix does not exist\u001b[0m\u001b[1;33m\u001b[0m\u001b[1;33m\u001b[0m\u001b[1;33m\u001b[0m\u001b[0m\n\u001b[0;32m      4\u001b[0m         \u001b[1;32mif\u001b[0m \u001b[1;32mnot\u001b[0m \u001b[0mmatrix\u001b[0m \u001b[1;32mor\u001b[0m \u001b[1;32mnot\u001b[0m \u001b[0mmatrix\u001b[0m\u001b[1;33m[\u001b[0m\u001b[1;36m0\u001b[0m\u001b[1;33m]\u001b[0m\u001b[1;33m:\u001b[0m\u001b[1;33m\u001b[0m\u001b[1;33m\u001b[0m\u001b[0m\n\u001b[0;32m      5\u001b[0m             \u001b[1;32mreturn\u001b[0m \u001b[1;32mFalse\u001b[0m\u001b[1;33m\u001b[0m\u001b[1;33m\u001b[0m\u001b[0m\n",
      "\u001b[1;32m<ipython-input-17-69e8a0368822>\u001b[0m in \u001b[0;36mSolution\u001b[1;34m()\u001b[0m\n\u001b[0;32m      1\u001b[0m \u001b[1;32mclass\u001b[0m \u001b[0mSolution\u001b[0m\u001b[1;33m:\u001b[0m\u001b[1;33m\u001b[0m\u001b[1;33m\u001b[0m\u001b[0m\n\u001b[1;32m----> 2\u001b[1;33m     \u001b[1;32mdef\u001b[0m \u001b[0msearchMatrix\u001b[0m\u001b[1;33m(\u001b[0m\u001b[0mself\u001b[0m\u001b[1;33m,\u001b[0m \u001b[0mmatrix\u001b[0m\u001b[1;33m:\u001b[0m \u001b[0mList\u001b[0m\u001b[1;33m[\u001b[0m\u001b[0mList\u001b[0m\u001b[1;33m[\u001b[0m\u001b[0mint\u001b[0m\u001b[1;33m]\u001b[0m\u001b[1;33m]\u001b[0m\u001b[1;33m,\u001b[0m \u001b[0mtarget\u001b[0m\u001b[1;33m:\u001b[0m \u001b[0mint\u001b[0m\u001b[1;33m)\u001b[0m \u001b[1;33m->\u001b[0m \u001b[0mbool\u001b[0m\u001b[1;33m:\u001b[0m\u001b[1;33m\u001b[0m\u001b[1;33m\u001b[0m\u001b[0m\n\u001b[0m\u001b[0;32m      3\u001b[0m          \u001b[1;31m#if matrix does not exist\u001b[0m\u001b[1;33m\u001b[0m\u001b[1;33m\u001b[0m\u001b[1;33m\u001b[0m\u001b[0m\n\u001b[0;32m      4\u001b[0m         \u001b[1;32mif\u001b[0m \u001b[1;32mnot\u001b[0m \u001b[0mmatrix\u001b[0m \u001b[1;32mor\u001b[0m \u001b[1;32mnot\u001b[0m \u001b[0mmatrix\u001b[0m\u001b[1;33m[\u001b[0m\u001b[1;36m0\u001b[0m\u001b[1;33m]\u001b[0m\u001b[1;33m:\u001b[0m\u001b[1;33m\u001b[0m\u001b[1;33m\u001b[0m\u001b[0m\n\u001b[0;32m      5\u001b[0m             \u001b[1;32mreturn\u001b[0m \u001b[1;32mFalse\u001b[0m\u001b[1;33m\u001b[0m\u001b[1;33m\u001b[0m\u001b[0m\n",
      "\u001b[1;31mNameError\u001b[0m: name 'List' is not defined"
     ]
    }
   ],
   "source": [
    "class Solution:\n",
    "    def searchMatrix(self, matrix: List[List[int]], target: int) -> bool:\n",
    "         #if matrix does not exist\n",
    "        if not matrix or not matrix[0]:\n",
    "            return False\n",
    "    #searching row\n",
    "        row = 0\n",
    "        for r in range(len(matrix)):\n",
    "        #if target is first or last element of the row\n",
    "            if target== matrix[r][0] or target == matrix[r][-1]:\n",
    "                return True\n",
    "            elif target>matrix[r][0] and target<matrix[r][-1]:\n",
    "                row = r\n",
    "                break\n",
    "    \n",
    "    #searching in that row\n",
    "        l=0\n",
    "        r=len(matrix[row])-1\n",
    "        while l<=r:\n",
    "            mid = (l+r)//2\n",
    "            if target == matrix[row][mid]:\n",
    "                return True\n",
    "            elif target>matrix[row][mid]:\n",
    "                l=mid+1\n",
    "            else:\n",
    "                r = mid-1\n",
    "        return False"
   ]
  },
  {
   "cell_type": "code",
   "execution_count": 22,
   "metadata": {},
   "outputs": [
    {
     "name": "stdout",
     "output_type": "stream",
     "text": [
      "{'a': 2, 'b': 3}\n"
     ]
    }
   ],
   "source": [
    "s='ababbc'\n",
    "k=2\n",
    "dic={}\n",
    "list1=[]\n",
    "for i in s:\n",
    "    if i not in dic.keys():\n",
    "        if s.count(i)>=k:\n",
    "            dic[i]=s.count(i)\n",
    "        else:\n",
    "            list1.append(i)\n",
    "print(dic)\n",
    "for i in range(len(s)):\n",
    "    x=[0:i+k]\n",
    "    y=[i:len(s)-k]\n",
    "    if len(list1>=i):\n",
    "        if list[]"
   ]
  },
  {
   "cell_type": "code",
   "execution_count": null,
   "metadata": {},
   "outputs": [],
   "source": []
  },
  {
   "cell_type": "code",
   "execution_count": null,
   "metadata": {},
   "outputs": [],
   "source": []
  }
 ],
 "metadata": {
  "kernelspec": {
   "display_name": "Python 3",
   "language": "python",
   "name": "python3"
  },
  "language_info": {
   "codemirror_mode": {
    "name": "ipython",
    "version": 3
   },
   "file_extension": ".py",
   "mimetype": "text/x-python",
   "name": "python",
   "nbconvert_exporter": "python",
   "pygments_lexer": "ipython3",
   "version": "3.7.6"
  }
 },
 "nbformat": 4,
 "nbformat_minor": 4
}
