{
 "cells": [
  {
   "cell_type": "code",
   "execution_count": 72,
   "metadata": {},
   "outputs": [],
   "source": [
    "class BST:\n",
    "    def __init__(self,key):\n",
    "        self.key=key\n",
    "        self.lchild=None\n",
    "        self.rchild=None\n",
    "    def insert(self,data):\n",
    "        if self.key is None:\n",
    "            self.key=data\n",
    "            return\n",
    "        if self.key==data:\n",
    "            return\n",
    "        if self.key>data:\n",
    "            if self.lchild is None:\n",
    "                self.lchild=BST(data)\n",
    "            else:\n",
    "                self.lchild.insert(data)\n",
    "        else:\n",
    "            if self.rchild is None:\n",
    "                self.rchild=BST(data)\n",
    "            else:\n",
    "                self.rchild.insert(data)\n",
    "    def search(self,data):\n",
    "        if self.key == data:\n",
    "            print(\"Node is found!\")\n",
    "            return\n",
    "        if self.key>data:\n",
    "            if self.lchild is not None:\n",
    "                self.lchild.search(data)\n",
    "            else:\n",
    "                print(\"Node is not present in Tree\")\n",
    "        else:\n",
    "            if self.rchild is not None:\n",
    "                self.rchild.search(data)\n",
    "            else:\n",
    "                print(\"Node is not present in Tree\")\n",
    "            \n",
    "    def preorder(self):\n",
    "        print(self.key)\n",
    "        if self.lchild is not None:\n",
    "            self.lchild.preorder()\n",
    "        if self.rchild is not None:\n",
    "            self.rchild.preorder()\n",
    "        \n",
    "    def inorder(self):\n",
    "        if self.lchild is not None:\n",
    "            self.lchild.inorder()\n",
    "        print(self.key)\n",
    "        if self.rchild is not None:\n",
    "            self.rchild.inorder()\n",
    "\n",
    "    def postorder(self):\n",
    "        if self.lchild is not None:\n",
    "            self.lchild.postorder()\n",
    "        if self.rchild is not None:\n",
    "            self.rchild.postorder()\n",
    "        print(self.key)\n",
    "        "
   ]
  },
  {
   "cell_type": "code",
   "execution_count": 74,
   "metadata": {},
   "outputs": [
    {
     "name": "stdout",
     "output_type": "stream",
     "text": [
      "10\n",
      "1\n",
      "9\n",
      "5\n",
      "7\n",
      "40\n",
      "30\n",
      "50\n",
      "1\n",
      "5\n",
      "7\n",
      "9\n",
      "10\n",
      "30\n",
      "40\n",
      "50\n",
      "7\n",
      "5\n",
      "9\n",
      "1\n",
      "30\n",
      "50\n",
      "40\n",
      "10\n"
     ]
    }
   ],
   "source": [
    "bst=BST(None)\n",
    "A=[10,1,9,40,5,7,50,30]\n",
    "for i in A:\n",
    "    bst.insert(i)\n",
    "bst.preorder()\n",
    "bst.inorder()\n",
    "bst.postorder()"
   ]
  }
 ],
 "metadata": {
  "kernelspec": {
   "display_name": "Python 3",
   "language": "python",
   "name": "python3"
  },
  "language_info": {
   "codemirror_mode": {
    "name": "ipython",
    "version": 3
   },
   "file_extension": ".py",
   "mimetype": "text/x-python",
   "name": "python",
   "nbconvert_exporter": "python",
   "pygments_lexer": "ipython3",
   "version": "3.7.6"
  }
 },
 "nbformat": 4,
 "nbformat_minor": 4
}
