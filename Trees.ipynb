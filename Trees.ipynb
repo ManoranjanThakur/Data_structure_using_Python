{
 "cells": [
  {
   "cell_type": "code",
   "execution_count": 85,
   "metadata": {},
   "outputs": [],
   "source": [
    "class BST:\n",
    "    def __init__(self,key):\n",
    "        self.key=key\n",
    "        self.lchild=None\n",
    "        self.rchild=None\n",
    "    def insert(self,data):\n",
    "        if self.key is None:\n",
    "            self.key=data\n",
    "            return\n",
    "        if self.key==data:\n",
    "            return\n",
    "        if self.key>data:\n",
    "            if self.lchild is None:\n",
    "                self.lchild=BST(data)\n",
    "            else:\n",
    "                self.lchild.insert(data)\n",
    "        else:\n",
    "            if self.rchild is None:\n",
    "                self.rchild=BST(data)\n",
    "            else:\n",
    "                self.rchild.insert(data)\n",
    "    def search(self,data):\n",
    "        if self.key == data:\n",
    "            print(\"Node is found!\")\n",
    "            return\n",
    "        if self.key>data:\n",
    "            if self.lchild is not None:\n",
    "                self.lchild.search(data)\n",
    "            else:\n",
    "                print(\"Node is not present in Tree\")\n",
    "        else:\n",
    "            if self.rchild is not None:\n",
    "                self.rchild.search(data)\n",
    "            else:\n",
    "                print(\"Node is not present in Tree\")\n",
    "            \n",
    "    def preorder(self):\n",
    "        print(self.key)\n",
    "        if self.lchild is not None:\n",
    "            self.lchild.preorder()\n",
    "        if self.rchild is not None:\n",
    "            self.rchild.preorder()\n",
    "        \n",
    "    def inorder(self):\n",
    "        if self.lchild is not None:\n",
    "            self.lchild.inorder()\n",
    "        print(self.key)\n",
    "        if self.rchild is not None:\n",
    "            self.rchild.inorder()\n",
    "\n",
    "    def postorder(self):\n",
    "        if self.lchild is not None:\n",
    "            self.lchild.postorder()\n",
    "        if self.rchild is not None:\n",
    "            self.rchild.postorder()\n",
    "        print(self.key)\n",
    "        \n",
    "    def delete(self,data):\n",
    "        if self.key is None:\n",
    "            print(\"Tree is empty\")\n",
    "            return\n",
    "        if self.key>data:\n",
    "            if self.lchild is not None:\n",
    "                self.lchild=self.lchild.delete(data)\n",
    "            else:\n",
    "                print(\"Data not present\")\n",
    "        elif self.key<data:\n",
    "            if self.rchild is not None:\n",
    "                self.rchild=self.rchild.delete(data)\n",
    "            else:\n",
    "                print(\"Data not present\")\n",
    "        else:\n",
    "            if self.lchild is None:\n",
    "                temp=self.rchild\n",
    "                self=None\n",
    "                return temp\n",
    "            if self.rchild is None:\n",
    "                temp=self.lchild\n",
    "                self=None\n",
    "                return temp\n",
    "            node=self.rchild\n",
    "            while node.lchild is not None:\n",
    "                node=node.lchild\n",
    "            self.key=node.key\n",
    "            self.rchild=self.rchild.delete(node.key)\n",
    "        return self\n",
    "        \n",
    "    def min_node(self):\n",
    "        current=self\n",
    "        while(current.lchild is not None):\n",
    "            current=current.lchild\n",
    "        print(\"Node with smallest key is :\", current.key)\n",
    "    \n",
    "    def max_node(self):\n",
    "        current=self\n",
    "        while(current.rchild is not None):\n",
    "            curren=current.rchild\n",
    "        print(\"Node with maximum keys is: \",current.key)"
   ]
  },
  {
   "cell_type": "code",
   "execution_count": null,
   "metadata": {},
   "outputs": [
    {
     "name": "stdout",
     "output_type": "stream",
     "text": [
      "1\n",
      "2\n",
      "3\n",
      "4\n",
      "5\n",
      "1\n",
      "2\n",
      "3\n",
      "4\n",
      "5\n",
      "5\n",
      "4\n",
      "3\n",
      "2\n",
      "1\n",
      "1\n",
      "2\n",
      "3\n",
      "4\n",
      "Node with smallest key is : 1\n"
     ]
    }
   ],
   "source": [
    "bst=BST(None)\n",
    "A=[1,2,3,4,5]\n",
    "for i in A:\n",
    "    bst.insert(i)\n",
    "bst.preorder()\n",
    "bst.inorder()\n",
    "bst.postorder()\n",
    "bst.delete(5)\n",
    "bst.inorder()\n",
    "bst.min_node()\n",
    "bst.max_node()"
   ]
  },
  {
   "cell_type": "code",
   "execution_count": 9,
   "metadata": {},
   "outputs": [
    {
     "data": {
      "text/plain": [
       "''"
      ]
     },
     "execution_count": 9,
     "metadata": {},
     "output_type": "execute_result"
    }
   ],
   "source": [
    "word=\"abc\"\n",
    "word[4:]"
   ]
  },
  {
   "cell_type": "code",
   "execution_count": 15,
   "metadata": {},
   "outputs": [
    {
     "data": {
      "text/plain": [
       "'bcd'"
      ]
     },
     "execution_count": 15,
     "metadata": {},
     "output_type": "execute_result"
    }
   ],
   "source": [
    "a='abcd'\n",
    "a[1:1000]"
   ]
  },
  {
   "cell_type": "code",
   "execution_count": 22,
   "metadata": {},
   "outputs": [
    {
     "data": {
      "text/plain": [
       "0.15443469003188381"
      ]
     },
     "execution_count": 22,
     "metadata": {},
     "output_type": "execute_result"
    }
   ],
   "source": [
    "(10**(1/3))%2\n"
   ]
  },
  {
   "cell_type": "code",
   "execution_count": 33,
   "metadata": {},
   "outputs": [
    {
     "name": "stdout",
     "output_type": "stream",
     "text": [
      "true\n",
      "2 3 5\n",
      "true\n",
      "3 5 8\n",
      "true\n",
      "5 8 13\n",
      "true\n",
      "8 13 21\n",
      "true\n",
      "13 21 34\n",
      "true\n",
      "32 13 45\n",
      "true\n",
      "2 1 3\n",
      "true\n",
      "21 34 55\n",
      "true\n",
      "1 3 4\n"
     ]
    }
   ],
   "source": [
    "a='235813213455'\n",
    "for i in range(len(a)):\n",
    "    for j in range(1,len(a)-i):\n",
    "        for k in range(1,len(a)-i-j):\n",
    "            for l in range(1,(len(a)+1)-i-j-k):\n",
    "                if int(a[i:i+j])+int(a[i+j:i+j+k])==int(a[i+j+k:i+j+k+l]):\n",
    "                    print('true')\n",
    "                    print(int(a[i:i+j]),int(a[i+j:i+j+k]),int(a[i+j+k:i+j+k+l]))"
   ]
  },
  {
   "cell_type": "code",
   "execution_count": 39,
   "metadata": {},
   "outputs": [
    {
     "name": "stdout",
     "output_type": "stream",
     "text": [
      "\n"
     ]
    }
   ],
   "source": [
    "s='12358'\n",
    "n1=int(1)\n",
    "n2=int(2)\n",
    "n3=str(n1+n2)\n",
    "idx=min(len(s[2:]),len(n3))\n",
    "print(s[2:idx])"
   ]
  },
  {
   "cell_type": "code",
   "execution_count": null,
   "metadata": {},
   "outputs": [],
   "source": []
  },
  {
   "cell_type": "code",
   "execution_count": null,
   "metadata": {},
   "outputs": [],
   "source": []
  }
 ],
 "metadata": {
  "kernelspec": {
   "display_name": "Python 3",
   "language": "python",
   "name": "python3"
  },
  "language_info": {
   "codemirror_mode": {
    "name": "ipython",
    "version": 3
   },
   "file_extension": ".py",
   "mimetype": "text/x-python",
   "name": "python",
   "nbconvert_exporter": "python",
   "pygments_lexer": "ipython3",
   "version": "3.7.6"
  }
 },
 "nbformat": 4,
 "nbformat_minor": 4
}
