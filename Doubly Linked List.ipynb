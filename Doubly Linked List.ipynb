{
 "cells": [
  {
   "cell_type": "code",
   "execution_count": 20,
   "metadata": {},
   "outputs": [],
   "source": [
    "class Node:\n",
    "    def __init__(self,data):\n",
    "        self.data=data\n",
    "        self.pref=None\n",
    "        self.nref=None\n",
    "class DLinkedList:\n",
    "    def __init__(self):\n",
    "        self.head=None\n",
    "    def print_LL(self):\n",
    "        while self.head.pref is not None:\n",
    "            self.head=self.head.pref\n",
    "        if self.head is None:\n",
    "            print(\"Linked List is empty!\")\n",
    "        else:\n",
    "            n=self.head\n",
    "            while n is not None:\n",
    "                print(n.data,\"-->\", end=\" \")\n",
    "                n=n.nref\n",
    "    def print_LL_reverse(self):\n",
    "        while self.head.nref is not None:\n",
    "            self.head=self.head.nref\n",
    "        if self.head is None:\n",
    "            print(\"Linked List is empty!\")\n",
    "        else:\n",
    "            n=self.head\n",
    "            while n.nref is not None:\n",
    "                n=n.nref\n",
    "            while n is not None:\n",
    "                print(n.data,\"-->\", end=\" \")\n",
    "                n=n.pref\n",
    "            \n",
    "    def insert_empty(self,data):\n",
    "        if self.head is None:\n",
    "            new_node = Node(data)\n",
    "            self.head=new_node\n",
    "        else:\n",
    "            print(\"Linked List is not empty!\")\n",
    "        \n",
    "    def add_begin(self,data):\n",
    "        new_node = Node(data)\n",
    "        if self.head is None:\n",
    "            self.head=new_node\n",
    "        else:\n",
    "            new_node.nref=self.head\n",
    "            self.head.pref=new_node\n",
    "            self.head=new_node\n",
    "    \n",
    "    def add_end(self,data):\n",
    "        new_node=Node(data)\n",
    "        if self.head is None:\n",
    "            nself.head=new_node\n",
    "        else:\n",
    "            while self.head.nref is not None:\n",
    "                self.head=self.head.nref\n",
    "            self.head.nref=new_node\n",
    "            new_node.pref=self.head\n",
    "            \n",
    "    \n",
    "            \n",
    "            \n",
    "            "
   ]
  },
  {
   "cell_type": "code",
   "execution_count": 26,
   "metadata": {},
   "outputs": [
    {
     "name": "stdout",
     "output_type": "stream",
     "text": [
      "50 --> 40 --> 30 --> 20 --> 10 --> 60 --> 70 --> 80 --> 90 --> 100 --> "
     ]
    }
   ],
   "source": [
    "dl1=DLinkedList()\n",
    "dl1.add_begin(10)\n",
    "dl1.add_begin(20)\n",
    "dl1.add_begin(30)\n",
    "dl1.add_begin(40)\n",
    "dl1.add_begin(50)\n",
    "dl1.add_end(60)\n",
    "dl1.add_end(70)\n",
    "dl1.add_end(80)\n",
    "dl1.add_end(90)\n",
    "dl1.add_end(100)\n",
    "\n",
    "dl1.print_LL()"
   ]
  },
  {
   "cell_type": "code",
   "execution_count": null,
   "metadata": {},
   "outputs": [],
   "source": []
  },
  {
   "cell_type": "code",
   "execution_count": null,
   "metadata": {},
   "outputs": [],
   "source": []
  },
  {
   "cell_type": "code",
   "execution_count": null,
   "metadata": {},
   "outputs": [],
   "source": []
  }
 ],
 "metadata": {
  "kernelspec": {
   "display_name": "Python 3",
   "language": "python",
   "name": "python3"
  },
  "language_info": {
   "codemirror_mode": {
    "name": "ipython",
    "version": 3
   },
   "file_extension": ".py",
   "mimetype": "text/x-python",
   "name": "python",
   "nbconvert_exporter": "python",
   "pygments_lexer": "ipython3",
   "version": "3.7.6"
  }
 },
 "nbformat": 4,
 "nbformat_minor": 4
}
